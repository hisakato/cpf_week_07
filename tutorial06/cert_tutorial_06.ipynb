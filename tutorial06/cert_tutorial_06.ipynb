{
 "cells": [
  {
   "cell_type": "markdown",
   "metadata": {},
   "source": [
    "<img src=\"http://hilpisch.com/tpq_logo.png\" width=\"350px\" align=\"right\">"
   ]
  },
  {
   "cell_type": "markdown",
   "metadata": {},
   "source": [
    "# Certificate Programs\n",
    "\n",
    "**Tutorial 06**"
   ]
  },
  {
   "cell_type": "markdown",
   "metadata": {},
   "source": [
    "&copy; Dr. Yves J. Hilpisch | The Python Quants GmbH\n",
    "\n",
    "http://tpq.io | [training@tpq.io](mailto:trainin@tpq.io) | [@dyjh](http://twitter.com/dyjh)"
   ]
  },
  {
   "cell_type": "markdown",
   "metadata": {},
   "source": [
    "## Test Project &mdash; Algorithmic Trading"
   ]
  },
  {
   "cell_type": "markdown",
   "metadata": {},
   "source": [
    "**Prediction-based Trading & Event-based Backtesting**\n",
    "\n",
    "Implement a class that uses **event-based backtesting** to backtest the following prediction-based strategy:\n",
    "\n",
    "* Data from `http://hilpisch.com/ref_eikon_eod_data.csv`.\n",
    "* Select one symbol from the data set.\n",
    "* Create the following features:\n",
    "    * log return\n",
    "    * direction (up or down)\n",
    "    * log return as 5 categories\n",
    "    * two SMAs (short and long window)\n",
    "    * difference between the SMAs\n",
    "    * two EWMAs (short and long window)\n",
    "    * difference between the EWMAs\n",
    "    * two rolling volatilities (short and long window)\n",
    "* Split the data set into training (70%) and testing data.\n",
    "* Normalize the training features data to have\n",
    "    * zero mean and\n",
    "    * standard deviation of one.\n",
    "* Normalize the test features data by the same moment values as the training data.\n",
    "* Create lagged features data for 5 lags.\n",
    "* Train and (back-)test the following algorithms for directional (long/short) trading (from `scikit-learn`):\n",
    "    * `GaussianNB()`\n",
    "    * `LogisticRegression()`\n",
    "    * `DecisionTreeClassifier()`\n",
    "    * `SVC()`\n",
    "    * `MLPClassifier()`\n",
    "* Compare the performance of the different models numerically.\n",
    "\n",
    "For the implementation, you can rely e.g. on the Python classes as presented in the PyAlgo class sessions and the resources."
   ]
  },
  {
   "cell_type": "markdown",
   "metadata": {},
   "source": [
    "## Test Project &mdash; Computational Finance"
   ]
  },
  {
   "cell_type": "markdown",
   "metadata": {},
   "source": [
    "**Complete Market Models & Pricing Library**\n",
    "\n",
    "Write a pricing library for European plain vanilla and exotic options making use of geometric Brownian motion as the stochastic process. The pricing shall be based on Monte Carlo simulation.\n",
    "\n",
    "The pricing library shall have:\n",
    "\n",
    "* a class for the risk-neutral discounting (taking the short rate as parameter, generating discount factors as required, etc.)\n",
    "* a class to model the parameters of the underyling risk factor and a European option (initial value, volatility, time-to-maturity, dividends, strike price, option type etc.)\n",
    "* a class to value European **vanilla options** based on Monte Carlo simulation\n",
    "* a class to value European **lookback options** &mdash; with either fixed or floating strike (see https://en.wikipedia.org/wiki/Lookback_option)\n",
    "* a class to value European **Asian options** &mdash; with either fixed price or fixed strike (see https://en.wikipedia.org/wiki/Asian_option)"
   ]
  },
  {
   "cell_type": "markdown",
   "metadata": {},
   "source": [
    "## Test Project &mdash; Asset Management"
   ]
  },
  {
   "cell_type": "markdown",
   "metadata": {},
   "source": [
    "**Class-Based Implementation of Mean-Variance Portfolios**"
   ]
  },
  {
   "cell_type": "markdown",
   "metadata": {},
   "source": [
    "Implement a class that does the following:\n",
    "\n",
    "* uses the data set `https://hilpisch.com/indices_eikon_eod_data.csv`\n",
    "* allows to define the investable universe (= set of instruments to be used)\n",
    "* assumes that 100% of a capital base is to be invested (normalized portfolios)\n",
    "* allows to define whether short sales are allowed or not\n",
    "* allows to define a maximum (in negative %) for any short position (say, `-0.1` for \"10% short\")\n",
    "* calculates for an arbitraty portfolio composition (in line with the before assumptions/constraints) the expected return and the volatility of the portfolio\n",
    "* simulates random portfolio compositions including risk-return statistics and allows for the visualization of these statistics\n",
    "* uses optimization techniques with freely defined bounds (say, \"every asset shall have a minimum allocation of 5%\") to ...\n",
    "    * ... derive the minimum risk portfolio\n",
    "    * ... derive the maximum Sharpe portfolio\n",
    "    * ... derive and visualize the efficient frontier"
   ]
  },
  {
   "cell_type": "markdown",
   "metadata": {},
   "source": [
    "## Tools & Skills"
   ]
  },
  {
   "cell_type": "markdown",
   "metadata": {},
   "source": [
    "**Lightweight Tool Chain**\n",
    "\n",
    "Create a DigitalOcean Droplet. Install Miniconda on it.\n",
    "\n",
    "Install the lightweight tool chain `Screen + IPython + Vim + q` on the droplet.\n",
    "\n",
    "Re-implement your favourite exercise(s) or test projects (e.g. those above) working via SSH on the Droplet.\n",
    "\n",
    "Use the `doctest` and/or the `unittest` package to test your classes."
   ]
  },
  {
   "cell_type": "markdown",
   "metadata": {},
   "source": [
    "## Financial Data Science"
   ]
  },
  {
   "cell_type": "markdown",
   "metadata": {},
   "source": [
    "**[REVIEW]**"
   ]
  },
  {
   "cell_type": "markdown",
   "metadata": {},
   "source": [
    "## AI in Finance"
   ]
  },
  {
   "cell_type": "markdown",
   "metadata": {},
   "source": [
    "**[REVIEW]**"
   ]
  },
  {
   "cell_type": "markdown",
   "metadata": {},
   "source": [
    "<img src=\"http://hilpisch.com/tpq_logo.png\" alt=\"The Python Quants\" width=\"35%\" align=\"right\" border=\"0\"><br>\n",
    "\n",
    "<a href=\"http://tpq.io\" target=\"_blank\">http://tpq.io</a> | <a href=\"http://twitter.com/dyjh\" target=\"_blank\">@dyjh</a> | <a href=\"mailto:training@tpq.io\">training@tpq.io</a>"
   ]
  }
 ],
 "metadata": {
  "kernelspec": {
   "display_name": "Python 3 (ipykernel)",
   "language": "python",
   "name": "python3"
  },
  "language_info": {
   "codemirror_mode": {
    "name": "ipython",
    "version": 3
   },
   "file_extension": ".py",
   "mimetype": "text/x-python",
   "name": "python",
   "nbconvert_exporter": "python",
   "pygments_lexer": "ipython3",
   "version": "3.12.8"
  }
 },
 "nbformat": 4,
 "nbformat_minor": 4
}
